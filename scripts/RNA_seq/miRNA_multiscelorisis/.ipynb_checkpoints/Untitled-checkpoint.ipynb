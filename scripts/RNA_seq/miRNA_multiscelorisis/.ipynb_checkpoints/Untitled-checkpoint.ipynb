{
 "cells": [
  {
   "cell_type": "code",
   "execution_count": 3,
   "id": "2d82675f-aa2f-4a7f-970b-ed190349ecdb",
   "metadata": {},
   "outputs": [],
   "source": [
    "import re\n",
    "# create variables for the scaffold pattern and the genome \n",
    "pattern = \"the scafold pattern\"\n",
    "Genome = \"the Genome\"\n",
    "# finds the pattern of the scaffold\n",
    "x = re.findall(pattern, genome)\n",
    "print(x)\n",
    "#stores the scaffold in a file named scaffold\n",
    "# write the  scaffold data into  a file named scaffold.txt.\n",
    "file1 = open(\"scaffold.txt\",\"w\")\n",
    "file1.writelines(x)\n",
    "file1.close() #to change file access modes"
   ]
  },
  {
   "cell_type": "code",
   "execution_count": null,
   "id": "4f32edc1-6938-4634-9682-b59e10f9b712",
   "metadata": {},
   "outputs": [],
   "source": []
  }
 ],
 "metadata": {
  "kernelspec": {
   "display_name": "Python 3 (ipykernel)",
   "language": "python",
   "name": "python3"
  },
  "language_info": {
   "codemirror_mode": {
    "name": "ipython",
    "version": 3
   },
   "file_extension": ".py",
   "mimetype": "text/x-python",
   "name": "python",
   "nbconvert_exporter": "python",
   "pygments_lexer": "ipython3",
   "version": "3.9.7"
  }
 },
 "nbformat": 4,
 "nbformat_minor": 5
}
